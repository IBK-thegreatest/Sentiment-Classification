{
 "cells": [
  {
   "cell_type": "code",
   "execution_count": 1,
   "metadata": {},
   "outputs": [],
   "source": [
    "import numpy as np\n",
    "import pandas as pd\n",
    "import matplotlib.pyplot as plt\n",
    "import seaborn as sns\n",
    "import warnings\n",
    "\n",
    "%matplotlib inline\n",
    "warnings.filterwarnings('ignore')"
   ]
  },
  {
   "cell_type": "code",
   "execution_count": 2,
   "metadata": {},
   "outputs": [],
   "source": [
    "df = pd.read_csv('train.csv')"
   ]
  },
  {
   "cell_type": "code",
   "execution_count": 3,
   "metadata": {},
   "outputs": [
    {
     "data": {
      "text/html": [
       "<div>\n",
       "<style scoped>\n",
       "    .dataframe tbody tr th:only-of-type {\n",
       "        vertical-align: middle;\n",
       "    }\n",
       "\n",
       "    .dataframe tbody tr th {\n",
       "        vertical-align: top;\n",
       "    }\n",
       "\n",
       "    .dataframe thead th {\n",
       "        text-align: right;\n",
       "    }\n",
       "</style>\n",
       "<table border=\"1\" class=\"dataframe\">\n",
       "  <thead>\n",
       "    <tr style=\"text-align: right;\">\n",
       "      <th></th>\n",
       "      <th>id</th>\n",
       "      <th>label</th>\n",
       "      <th>tweet</th>\n",
       "    </tr>\n",
       "  </thead>\n",
       "  <tbody>\n",
       "    <tr>\n",
       "      <th>0</th>\n",
       "      <td>1</td>\n",
       "      <td>0</td>\n",
       "      <td>#fingerprint #Pregnancy Test https://goo.gl/h1...</td>\n",
       "    </tr>\n",
       "    <tr>\n",
       "      <th>1</th>\n",
       "      <td>2</td>\n",
       "      <td>0</td>\n",
       "      <td>Finally a transparant silicon case ^^ Thanks t...</td>\n",
       "    </tr>\n",
       "    <tr>\n",
       "      <th>2</th>\n",
       "      <td>3</td>\n",
       "      <td>0</td>\n",
       "      <td>We love this! Would you go? #talk #makememorie...</td>\n",
       "    </tr>\n",
       "    <tr>\n",
       "      <th>3</th>\n",
       "      <td>4</td>\n",
       "      <td>0</td>\n",
       "      <td>I'm wired I know I'm George I was made that wa...</td>\n",
       "    </tr>\n",
       "    <tr>\n",
       "      <th>4</th>\n",
       "      <td>5</td>\n",
       "      <td>1</td>\n",
       "      <td>What amazing service! Apple won't even talk to...</td>\n",
       "    </tr>\n",
       "  </tbody>\n",
       "</table>\n",
       "</div>"
      ],
      "text/plain": [
       "   id  label                                              tweet\n",
       "0   1      0  #fingerprint #Pregnancy Test https://goo.gl/h1...\n",
       "1   2      0  Finally a transparant silicon case ^^ Thanks t...\n",
       "2   3      0  We love this! Would you go? #talk #makememorie...\n",
       "3   4      0  I'm wired I know I'm George I was made that wa...\n",
       "4   5      1  What amazing service! Apple won't even talk to..."
      ]
     },
     "execution_count": 3,
     "metadata": {},
     "output_type": "execute_result"
    }
   ],
   "source": [
    "df.head()"
   ]
  },
  {
   "cell_type": "code",
   "execution_count": 4,
   "metadata": {},
   "outputs": [],
   "source": [
    "df.drop('id', axis=1, inplace=True)"
   ]
  },
  {
   "cell_type": "code",
   "execution_count": 5,
   "metadata": {},
   "outputs": [
    {
     "data": {
      "text/plain": [
       "\"What amazing service! Apple won't even talk to me about a question I have unless I pay them $19.95 for their stupid support!\""
      ]
     },
     "execution_count": 5,
     "metadata": {},
     "output_type": "execute_result"
    }
   ],
   "source": [
    "tweet = df['tweet'].iloc[4]\n",
    "tweet"
   ]
  },
  {
   "cell_type": "code",
   "execution_count": 6,
   "metadata": {},
   "outputs": [
    {
     "data": {
      "text/plain": [
       "\"I'm wired I know I'm George I was made that way ;) #iphone #cute #daventry #home http://instagr.am/p/Li_5_ujS4k/\""
      ]
     },
     "execution_count": 6,
     "metadata": {},
     "output_type": "execute_result"
    }
   ],
   "source": [
    "tweet2 = df['tweet'].iloc[3]\n",
    "tweet2"
   ]
  },
  {
   "cell_type": "code",
   "execution_count": 7,
   "metadata": {},
   "outputs": [
    {
     "data": {
      "text/plain": [
       "label    0\n",
       "tweet    0\n",
       "dtype: int64"
      ]
     },
     "execution_count": 7,
     "metadata": {},
     "output_type": "execute_result"
    }
   ],
   "source": [
    "df.isnull().sum()"
   ]
  },
  {
   "cell_type": "code",
   "execution_count": 8,
   "metadata": {},
   "outputs": [
    {
     "name": "stdout",
     "output_type": "stream",
     "text": [
      "<class 'pandas.core.frame.DataFrame'>\n",
      "RangeIndex: 7920 entries, 0 to 7919\n",
      "Data columns (total 2 columns):\n",
      " #   Column  Non-Null Count  Dtype \n",
      "---  ------  --------------  ----- \n",
      " 0   label   7920 non-null   int64 \n",
      " 1   tweet   7920 non-null   object\n",
      "dtypes: int64(1), object(1)\n",
      "memory usage: 123.9+ KB\n"
     ]
    }
   ],
   "source": [
    "df.info()"
   ]
  },
  {
   "cell_type": "code",
   "execution_count": 9,
   "metadata": {},
   "outputs": [],
   "source": [
    "#0 stands for poitive while 1 stands for negative\n",
    "label_map = {\n",
    "    0:'Positive',\n",
    "    1:'Negative'\n",
    "}\n",
    "\n",
    "df['label'] = df['label'].map(label_map)"
   ]
  },
  {
   "cell_type": "code",
   "execution_count": 10,
   "metadata": {},
   "outputs": [
    {
     "data": {
      "text/html": [
       "<div>\n",
       "<style scoped>\n",
       "    .dataframe tbody tr th:only-of-type {\n",
       "        vertical-align: middle;\n",
       "    }\n",
       "\n",
       "    .dataframe tbody tr th {\n",
       "        vertical-align: top;\n",
       "    }\n",
       "\n",
       "    .dataframe thead th {\n",
       "        text-align: right;\n",
       "    }\n",
       "</style>\n",
       "<table border=\"1\" class=\"dataframe\">\n",
       "  <thead>\n",
       "    <tr style=\"text-align: right;\">\n",
       "      <th></th>\n",
       "      <th>label</th>\n",
       "      <th>tweet</th>\n",
       "    </tr>\n",
       "  </thead>\n",
       "  <tbody>\n",
       "    <tr>\n",
       "      <th>0</th>\n",
       "      <td>Positive</td>\n",
       "      <td>#fingerprint #Pregnancy Test https://goo.gl/h1...</td>\n",
       "    </tr>\n",
       "    <tr>\n",
       "      <th>1</th>\n",
       "      <td>Positive</td>\n",
       "      <td>Finally a transparant silicon case ^^ Thanks t...</td>\n",
       "    </tr>\n",
       "    <tr>\n",
       "      <th>2</th>\n",
       "      <td>Positive</td>\n",
       "      <td>We love this! Would you go? #talk #makememorie...</td>\n",
       "    </tr>\n",
       "    <tr>\n",
       "      <th>3</th>\n",
       "      <td>Positive</td>\n",
       "      <td>I'm wired I know I'm George I was made that wa...</td>\n",
       "    </tr>\n",
       "    <tr>\n",
       "      <th>4</th>\n",
       "      <td>Negative</td>\n",
       "      <td>What amazing service! Apple won't even talk to...</td>\n",
       "    </tr>\n",
       "  </tbody>\n",
       "</table>\n",
       "</div>"
      ],
      "text/plain": [
       "      label                                              tweet\n",
       "0  Positive  #fingerprint #Pregnancy Test https://goo.gl/h1...\n",
       "1  Positive  Finally a transparant silicon case ^^ Thanks t...\n",
       "2  Positive  We love this! Would you go? #talk #makememorie...\n",
       "3  Positive  I'm wired I know I'm George I was made that wa...\n",
       "4  Negative  What amazing service! Apple won't even talk to..."
      ]
     },
     "execution_count": 10,
     "metadata": {},
     "output_type": "execute_result"
    }
   ],
   "source": [
    "df.head()"
   ]
  },
  {
   "cell_type": "code",
   "execution_count": 11,
   "metadata": {},
   "outputs": [
    {
     "data": {
      "text/plain": [
       "'!\"#$%&\\'()*+,-./:;<=>?@[\\\\]^_`{|}~'"
      ]
     },
     "execution_count": 11,
     "metadata": {},
     "output_type": "execute_result"
    }
   ],
   "source": [
    "import re\n",
    "import string\n",
    "\n",
    "string.punctuation"
   ]
  },
  {
   "cell_type": "code",
   "execution_count": 12,
   "metadata": {},
   "outputs": [],
   "source": [
    "#Data Cleaning using Regular expressions\n",
    "def text_cleaning(text):\n",
    "    #converting all texts to lower case\n",
    "    text = text.lower()\n",
    "    #Removing mentions\n",
    "    text = re.sub('@[\\S]+', '', text)\n",
    "    #Removing URLs\n",
    "    text = re.sub('http[\\S]+', '', text)\n",
    "    #Removing Picture URLs\n",
    "    text = re.sub('pic[\\S]+','', text)\n",
    "    #Removing Hashtags\n",
    "    text = re.sub('#[\\S]+','', text)\n",
    "    #Removing Punctuations\n",
    "    text = [char for char in text if char not in string.punctuation]\n",
    "    text = ''.join(text)\n",
    "    #Removing extra white spaces\n",
    "    text = ' '.join(text.split())\n",
    "    return text"
   ]
  },
  {
   "cell_type": "code",
   "execution_count": 13,
   "metadata": {},
   "outputs": [],
   "source": [
    "df['tweet'] = df['tweet'].apply(text_cleaning)"
   ]
  },
  {
   "cell_type": "code",
   "execution_count": 14,
   "metadata": {},
   "outputs": [],
   "source": [
    "df['tweet_length'] = df['tweet'].apply(len)"
   ]
  },
  {
   "cell_type": "code",
   "execution_count": 15,
   "metadata": {},
   "outputs": [
    {
     "data": {
      "text/plain": [
       "<matplotlib.legend.Legend at 0x1f94dfe6c50>"
      ]
     },
     "execution_count": 15,
     "metadata": {},
     "output_type": "execute_result"
    },
    {
     "data": {
      "image/png": "[encoded data removed]",
      "text/plain": [
       "<Figure size 864x432 with 1 Axes>"
      ]
     },
     "metadata": {
      "needs_background": "light"
     },
     "output_type": "display_data"
    }
   ],
   "source": [
    "plt.figure(figsize=(12,6))\n",
    "\n",
    "df[df['label'] == 'Positive']['tweet_length'].plot(kind='hist', bins=25)\n",
    "df[df['label'] == 'Negative']['tweet_length'].plot(kind='hist', bins=25)\n",
    "\n",
    "plt.legend(('Positive','Negative'))"
   ]
  },
  {
   "cell_type": "code",
   "execution_count": 16,
   "metadata": {},
   "outputs": [],
   "source": [
    "#Positive tweets are longer than negative tweets"
   ]
  },
  {
   "cell_type": "code",
   "execution_count": 17,
   "metadata": {},
   "outputs": [
    {
     "data": {
      "text/plain": [
       "Positive    5894\n",
       "Negative    2026\n",
       "Name: label, dtype: int64"
      ]
     },
     "execution_count": 17,
     "metadata": {},
     "output_type": "execute_result"
    }
   ],
   "source": [
    "df['label'].value_counts()"
   ]
  },
  {
   "cell_type": "code",
   "execution_count": 18,
   "metadata": {},
   "outputs": [],
   "source": [
    "df.drop('tweet_length', axis=1, inplace=True)"
   ]
  },
  {
   "cell_type": "code",
   "execution_count": 19,
   "metadata": {},
   "outputs": [
    {
     "data": {
      "text/plain": [
       "[]"
      ]
     },
     "execution_count": 19,
     "metadata": {},
     "output_type": "execute_result"
    }
   ],
   "source": [
    "#checking for empty space tweets\n",
    "blanks = []\n",
    "for i,lb,tweet in df.itertuples():\n",
    "    if type(tweet) == str:\n",
    "        if tweet.isspace():\n",
    "            blanks.append(i)\n",
    "            \n",
    "blanks"
   ]
  },
  {
   "cell_type": "code",
   "execution_count": 20,
   "metadata": {},
   "outputs": [
    {
     "data": {
      "text/plain": [
       "[442, 1678, 1834, 2509, 3661, 4153, 5157, 5330, 5908, 6220, 6340, 6596, 7294]"
      ]
     },
     "execution_count": 20,
     "metadata": {},
     "output_type": "execute_result"
    }
   ],
   "source": [
    "#Checking for empty string tweets\n",
    "blanks = []\n",
    "for i,lb,tweet in df.itertuples():\n",
    "    if type(tweet) == str:\n",
    "        if tweet == '':\n",
    "            blanks.append(i)\n",
    "            \n",
    "blanks"
   ]
  },
  {
   "cell_type": "code",
   "execution_count": 21,
   "metadata": {},
   "outputs": [],
   "source": [
    "df.drop(blanks, inplace=True)"
   ]
  },
  {
   "cell_type": "code",
   "execution_count": 22,
   "metadata": {},
   "outputs": [
    {
     "data": {
      "text/plain": [
       "Positive    5881\n",
       "Negative    2026\n",
       "Name: label, dtype: int64"
      ]
     },
     "execution_count": 22,
     "metadata": {},
     "output_type": "execute_result"
    }
   ],
   "source": [
    "df['label'].value_counts()"
   ]
  },
  {
   "cell_type": "code",
   "execution_count": 23,
   "metadata": {},
   "outputs": [],
   "source": [
    "from nltk.corpus import stopwords"
   ]
  },
  {
   "cell_type": "code",
   "execution_count": 24,
   "metadata": {},
   "outputs": [],
   "source": [
    "stop_words = stopwords.words('english')"
   ]
  },
  {
   "cell_type": "code",
   "execution_count": 25,
   "metadata": {},
   "outputs": [
    {
     "data": {
      "text/plain": [
       "\"i me my myself we our ours ourselves you you're you've you'll you'd your yours yourself yourselves he him his himself she she's her hers herself it it's its itself they them their theirs themselves what which who whom this that that'll these those am is are was were be been being have has had having do does did doing a an the and but if or because as until while of at by for with about against between into through during before after above below to from up down in out on off over under again further then once here there when where why how all any both each few more most other some such no nor not only own same so than too very s t can will just don don't should should've now d ll m o re ve y ain aren aren't couldn couldn't didn didn't doesn doesn't hadn hadn't hasn hasn't haven haven't isn isn't ma mightn mightn't mustn mustn't needn needn't shan shan't shouldn shouldn't wasn wasn't weren weren't won won't wouldn wouldn't\""
      ]
     },
     "execution_count": 25,
     "metadata": {},
     "output_type": "execute_result"
    }
   ],
   "source": [
    "stop_words = ' '.join(stop_words)\n",
    "stop_words"
   ]
  },
  {
   "cell_type": "code",
   "execution_count": 26,
   "metadata": {},
   "outputs": [
    {
     "data": {
      "text/plain": [
       "'i me my myself we our ours ourselves you youre youve youll youd your yours yourself yourselves he him his himself she shes her hers herself it its its itself they them their theirs themselves what which who whom this that thatll these those am is are was were be been being have has had having do does did doing a an the and but if or because as until while of at by for with about against between into through during before after above below to from up down in out on off over under again further then once here there when where why how all any both each few more most other some such no nor not only own same so than too very s t can will just don dont should shouldve now d ll m o re ve y ain aren arent couldn couldnt didn didnt doesn doesnt hadn hadnt hasn hasnt haven havent isn isnt ma mightn mightnt mustn mustnt needn neednt shan shant shouldn shouldnt wasn wasnt weren werent won wont wouldn wouldnt'"
      ]
     },
     "execution_count": 26,
     "metadata": {},
     "output_type": "execute_result"
    }
   ],
   "source": [
    "stop_words = [char for char in stop_words if char not in string.punctuation]\n",
    "stop_words = ''.join(stop_words)\n",
    "stop_words"
   ]
  },
  {
   "cell_type": "code",
   "execution_count": 27,
   "metadata": {},
   "outputs": [
    {
     "data": {
      "text/plain": [
       "['i',\n",
       " 'me',\n",
       " 'my',\n",
       " 'myself',\n",
       " 'we',\n",
       " 'our',\n",
       " 'ours',\n",
       " 'ourselves',\n",
       " 'you',\n",
       " 'youre',\n",
       " 'youve',\n",
       " 'youll',\n",
       " 'youd',\n",
       " 'your',\n",
       " 'yours',\n",
       " 'yourself',\n",
       " 'yourselves',\n",
       " 'he',\n",
       " 'him',\n",
       " 'his',\n",
       " 'himself',\n",
       " 'she',\n",
       " 'shes',\n",
       " 'her',\n",
       " 'hers',\n",
       " 'herself',\n",
       " 'it',\n",
       " 'its',\n",
       " 'its',\n",
       " 'itself',\n",
       " 'they',\n",
       " 'them',\n",
       " 'their',\n",
       " 'theirs',\n",
       " 'themselves',\n",
       " 'what',\n",
       " 'which',\n",
       " 'who',\n",
       " 'whom',\n",
       " 'this',\n",
       " 'that',\n",
       " 'thatll',\n",
       " 'these',\n",
       " 'those',\n",
       " 'am',\n",
       " 'is',\n",
       " 'are',\n",
       " 'was',\n",
       " 'were',\n",
       " 'be',\n",
       " 'been',\n",
       " 'being',\n",
       " 'have',\n",
       " 'has',\n",
       " 'had',\n",
       " 'having',\n",
       " 'do',\n",
       " 'does',\n",
       " 'did',\n",
       " 'doing',\n",
       " 'a',\n",
       " 'an',\n",
       " 'the',\n",
       " 'and',\n",
       " 'but',\n",
       " 'if',\n",
       " 'or',\n",
       " 'because',\n",
       " 'as',\n",
       " 'until',\n",
       " 'while',\n",
       " 'of',\n",
       " 'at',\n",
       " 'by',\n",
       " 'for',\n",
       " 'with',\n",
       " 'about',\n",
       " 'against',\n",
       " 'between',\n",
       " 'into',\n",
       " 'through',\n",
       " 'during',\n",
       " 'before',\n",
       " 'after',\n",
       " 'above',\n",
       " 'below',\n",
       " 'to',\n",
       " 'from',\n",
       " 'up',\n",
       " 'down',\n",
       " 'in',\n",
       " 'out',\n",
       " 'on',\n",
       " 'off',\n",
       " 'over',\n",
       " 'under',\n",
       " 'again',\n",
       " 'further',\n",
       " 'then',\n",
       " 'once',\n",
       " 'here',\n",
       " 'there',\n",
       " 'when',\n",
       " 'where',\n",
       " 'why',\n",
       " 'how',\n",
       " 'all',\n",
       " 'any',\n",
       " 'both',\n",
       " 'each',\n",
       " 'few',\n",
       " 'more',\n",
       " 'most',\n",
       " 'other',\n",
       " 'some',\n",
       " 'such',\n",
       " 'no',\n",
       " 'nor',\n",
       " 'not',\n",
       " 'only',\n",
       " 'own',\n",
       " 'same',\n",
       " 'so',\n",
       " 'than',\n",
       " 'too',\n",
       " 'very',\n",
       " 's',\n",
       " 't',\n",
       " 'can',\n",
       " 'will',\n",
       " 'just',\n",
       " 'don',\n",
       " 'dont',\n",
       " 'should',\n",
       " 'shouldve',\n",
       " 'now',\n",
       " 'd',\n",
       " 'll',\n",
       " 'm',\n",
       " 'o',\n",
       " 're',\n",
       " 've',\n",
       " 'y',\n",
       " 'ain',\n",
       " 'aren',\n",
       " 'arent',\n",
       " 'couldn',\n",
       " 'couldnt',\n",
       " 'didn',\n",
       " 'didnt',\n",
       " 'doesn',\n",
       " 'doesnt',\n",
       " 'hadn',\n",
       " 'hadnt',\n",
       " 'hasn',\n",
       " 'hasnt',\n",
       " 'haven',\n",
       " 'havent',\n",
       " 'isn',\n",
       " 'isnt',\n",
       " 'ma',\n",
       " 'mightn',\n",
       " 'mightnt',\n",
       " 'mustn',\n",
       " 'mustnt',\n",
       " 'needn',\n",
       " 'neednt',\n",
       " 'shan',\n",
       " 'shant',\n",
       " 'shouldn',\n",
       " 'shouldnt',\n",
       " 'wasn',\n",
       " 'wasnt',\n",
       " 'weren',\n",
       " 'werent',\n",
       " 'won',\n",
       " 'wont',\n",
       " 'wouldn',\n",
       " 'wouldnt']"
      ]
     },
     "execution_count": 27,
     "metadata": {},
     "output_type": "execute_result"
    }
   ],
   "source": [
    "stop_words = stop_words.split()\n",
    "stop_words"
   ]
  },
  {
   "cell_type": "code",
   "execution_count": 28,
   "metadata": {},
   "outputs": [
    {
     "data": {
      "text/plain": [
       "<matplotlib.axes._subplots.AxesSubplot at 0x1f94eff0400>"
      ]
     },
     "execution_count": 28,
     "metadata": {},
     "output_type": "execute_result"
    },
    {
     "data": {
      "image/png": "[encoded data removed]",
      "text/plain": [
       "<Figure size 864x432 with 1 Axes>"
      ]
     },
     "metadata": {
      "needs_background": "light"
     },
     "output_type": "display_data"
    }
   ],
   "source": [
    "#Finding the most common words in the positive tweet category\n",
    "from sklearn.feature_extraction.text import CountVectorizer\n",
    "cv = CountVectorizer()\n",
    "words = cv.fit_transform(df[df['label'] == 'Positive']['tweet'])\n",
    "\n",
    "sum_words = words.sum(axis=0)\n",
    "\n",
    "words_freq = [(word, sum_words[0,i]) for word,i in cv.vocabulary_.items()]\n",
    "\n",
    "words_freq = sorted(words_freq, key=lambda x: x[1], reverse=True)\n",
    "freq = pd.DataFrame(words_freq, columns=['words','freq'])\n",
    "\n",
    "top_10 = freq.head(10)\n",
    "plt.figure(figsize=(12,6))\n",
    "sns.barplot(x='words',y='freq',data=top_10)"
   ]
  },
  {
   "cell_type": "code",
   "execution_count": 29,
   "metadata": {},
   "outputs": [
    {
     "data": {
      "text/plain": [
       "<matplotlib.axes._subplots.AxesSubplot at 0x1f94f1b3e48>"
      ]
     },
     "execution_count": 29,
     "metadata": {},
     "output_type": "execute_result"
    },
    {
     "data": {
      "image/png": "[encoded data removed]",
      "text/plain": [
       "<Figure size 864x432 with 1 Axes>"
      ]
     },
     "metadata": {
      "needs_background": "light"
     },
     "output_type": "display_data"
    }
   ],
   "source": [
    "from sklearn.feature_extraction.text import CountVectorizer\n",
    "cv = CountVectorizer()\n",
    "words = cv.fit_transform(df[df['label'] == 'Negative']['tweet'])\n",
    "\n",
    "sum_words = words.sum(axis=0)\n",
    "\n",
    "words_freq = [(word, sum_words[0,i]) for word,i in cv.vocabulary_.items()]\n",
    "\n",
    "words_freq = sorted(words_freq, key=lambda x: x[1], reverse=True)\n",
    "freq = pd.DataFrame(words_freq, columns=['words','freq'])\n",
    "\n",
    "top_10 = freq.head(10)\n",
    "plt.figure(figsize=(12,6))\n",
    "sns.barplot(x='words',y='freq',data=top_10)"
   ]
  },
  {
   "cell_type": "code",
   "execution_count": 30,
   "metadata": {},
   "outputs": [],
   "source": [
    "def removing_stopwords(text):\n",
    "    #Converting the string text to a list\n",
    "    text = text.split()\n",
    "    #Filtering the stopwords\n",
    "    text = [word for word in text if word not in stop_words]\n",
    "    text = ' '.join(text)\n",
    "    return text"
   ]
  },
  {
   "cell_type": "code",
   "execution_count": 31,
   "metadata": {},
   "outputs": [],
   "source": [
    "df['tweet'] = df['tweet'].apply(removing_stopwords)"
   ]
  },
  {
   "cell_type": "code",
   "execution_count": 32,
   "metadata": {},
   "outputs": [
    {
     "data": {
      "text/plain": [
       "[51,\n",
       " 411,\n",
       " 479,\n",
       " 596,\n",
       " 670,\n",
       " 696,\n",
       " 884,\n",
       " 973,\n",
       " 994,\n",
       " 1423,\n",
       " 1707,\n",
       " 1776,\n",
       " 1894,\n",
       " 1916,\n",
       " 1984,\n",
       " 1999,\n",
       " 2062,\n",
       " 2153,\n",
       " 2557,\n",
       " 3227,\n",
       " 3263,\n",
       " 3332,\n",
       " 3391,\n",
       " 3702,\n",
       " 3758,\n",
       " 3845,\n",
       " 3859,\n",
       " 3970,\n",
       " 4032,\n",
       " 4188,\n",
       " 4574,\n",
       " 4722,\n",
       " 4774,\n",
       " 4886,\n",
       " 5289,\n",
       " 5667,\n",
       " 5722,\n",
       " 5846,\n",
       " 5941,\n",
       " 5988,\n",
       " 6312,\n",
       " 6406,\n",
       " 6463,\n",
       " 6514,\n",
       " 6634,\n",
       " 6699,\n",
       " 6846,\n",
       " 7173,\n",
       " 7315,\n",
       " 7471,\n",
       " 7475,\n",
       " 7509,\n",
       " 7823,\n",
       " 7853]"
      ]
     },
     "execution_count": 32,
     "metadata": {},
     "output_type": "execute_result"
    }
   ],
   "source": [
    "#Checking for empty string tweets\n",
    "blanks = []\n",
    "for i,lb,tweet in df.itertuples():\n",
    "    if type(tweet) == str:\n",
    "        if tweet == '':\n",
    "            blanks.append(i)\n",
    "            \n",
    "blanks"
   ]
  },
  {
   "cell_type": "code",
   "execution_count": 33,
   "metadata": {},
   "outputs": [],
   "source": [
    "df.drop(blanks, inplace=True)"
   ]
  },
  {
   "cell_type": "code",
   "execution_count": 34,
   "metadata": {},
   "outputs": [
    {
     "data": {
      "text/plain": [
       "Positive    5827\n",
       "Negative    2026\n",
       "Name: label, dtype: int64"
      ]
     },
     "execution_count": 34,
     "metadata": {},
     "output_type": "execute_result"
    }
   ],
   "source": [
    "df['label'].value_counts()"
   ]
  },
  {
   "cell_type": "code",
   "execution_count": 35,
   "metadata": {},
   "outputs": [
    {
     "data": {
      "text/html": [
       "<div>\n",
       "<style scoped>\n",
       "    .dataframe tbody tr th:only-of-type {\n",
       "        vertical-align: middle;\n",
       "    }\n",
       "\n",
       "    .dataframe tbody tr th {\n",
       "        vertical-align: top;\n",
       "    }\n",
       "\n",
       "    .dataframe thead th {\n",
       "        text-align: right;\n",
       "    }\n",
       "</style>\n",
       "<table border=\"1\" class=\"dataframe\">\n",
       "  <thead>\n",
       "    <tr style=\"text-align: right;\">\n",
       "      <th></th>\n",
       "      <th>label</th>\n",
       "      <th>tweet</th>\n",
       "    </tr>\n",
       "  </thead>\n",
       "  <tbody>\n",
       "    <tr>\n",
       "      <th>0</th>\n",
       "      <td>Positive</td>\n",
       "      <td>test</td>\n",
       "    </tr>\n",
       "    <tr>\n",
       "      <th>1</th>\n",
       "      <td>Positive</td>\n",
       "      <td>finally transparant silicon case thanks uncle</td>\n",
       "    </tr>\n",
       "    <tr>\n",
       "      <th>2</th>\n",
       "      <td>Positive</td>\n",
       "      <td>love would go</td>\n",
       "    </tr>\n",
       "    <tr>\n",
       "      <th>3</th>\n",
       "      <td>Positive</td>\n",
       "      <td>im wired know im george made way</td>\n",
       "    </tr>\n",
       "    <tr>\n",
       "      <th>4</th>\n",
       "      <td>Negative</td>\n",
       "      <td>amazing service apple even talk question unles...</td>\n",
       "    </tr>\n",
       "  </tbody>\n",
       "</table>\n",
       "</div>"
      ],
      "text/plain": [
       "      label                                              tweet\n",
       "0  Positive                                               test\n",
       "1  Positive      finally transparant silicon case thanks uncle\n",
       "2  Positive                                      love would go\n",
       "3  Positive                   im wired know im george made way\n",
       "4  Negative  amazing service apple even talk question unles..."
      ]
     },
     "execution_count": 35,
     "metadata": {},
     "output_type": "execute_result"
    }
   ],
   "source": [
    "df.head()"
   ]
  },
  {
   "cell_type": "code",
   "execution_count": 36,
   "metadata": {},
   "outputs": [],
   "source": [
    "#Splitting the data into training and testing data\n",
    "X = df['tweet']\n",
    "y = df['label']\n",
    "\n",
    "from sklearn.model_selection import train_test_split\n",
    "\n",
    "X_train, X_test, y_train, y_test = train_test_split(X, y, test_size=0.3, random_state=42)"
   ]
  },
  {
   "cell_type": "code",
   "execution_count": 37,
   "metadata": {},
   "outputs": [],
   "source": [
    "from sklearn.naive_bayes import MultinomialNB\n",
    "from sklearn.svm import LinearSVC\n",
    "from sklearn.metrics import classification_report, confusion_matrix, accuracy_score"
   ]
  },
  {
   "cell_type": "code",
   "execution_count": 38,
   "metadata": {},
   "outputs": [],
   "source": [
    "from sklearn.feature_extraction.text import CountVectorizer, TfidfTransformer"
   ]
  },
  {
   "cell_type": "code",
   "execution_count": 39,
   "metadata": {},
   "outputs": [],
   "source": [
    "from imblearn.over_sampling import RandomOverSampler\n",
    "from imblearn.pipeline import Pipeline\n",
    "from imblearn.under_sampling import RandomUnderSampler"
   ]
  },
  {
   "cell_type": "code",
   "execution_count": 40,
   "metadata": {},
   "outputs": [],
   "source": [
    "#For oversampling\n",
    "pipeline = Pipeline([\n",
    "    ('Count vectorization', CountVectorizer()),\n",
    "    ('Tfidf Transformation', TfidfTransformer()),\n",
    "    ('Oversampling', RandomOverSampler('minority', random_state=42)),\n",
    "    ('Naive Bayes Classifier', MultinomialNB())\n",
    "])"
   ]
  },
  {
   "cell_type": "code",
   "execution_count": 41,
   "metadata": {},
   "outputs": [
    {
     "data": {
      "text/plain": [
       "Pipeline(steps=[('Count vectorization', CountVectorizer()),\n",
       "                ('Tfidf Transformation', TfidfTransformer()),\n",
       "                ('Oversampling',\n",
       "                 RandomOverSampler(random_state=42,\n",
       "                                   sampling_strategy='minority')),\n",
       "                ('Naive Bayes Classifier', MultinomialNB())])"
      ]
     },
     "execution_count": 41,
     "metadata": {},
     "output_type": "execute_result"
    }
   ],
   "source": [
    "pipeline.fit(X_train, y_train)"
   ]
  },
  {
   "cell_type": "code",
   "execution_count": 42,
   "metadata": {},
   "outputs": [],
   "source": [
    "bayes_pred = pipeline.predict(X_test)"
   ]
  },
  {
   "cell_type": "code",
   "execution_count": 43,
   "metadata": {},
   "outputs": [],
   "source": [
    "pipeline_svc = Pipeline([\n",
    "    ('Count vectorization', CountVectorizer()),\n",
    "    ('Tfidf Transformation', TfidfTransformer()),\n",
    "    ('Oversampling', RandomOverSampler('minority', random_state=42)),\n",
    "    ('Linear Support Vector Classifier', LinearSVC())\n",
    "])"
   ]
  },
  {
   "cell_type": "code",
   "execution_count": 44,
   "metadata": {},
   "outputs": [
    {
     "data": {
      "text/plain": [
       "Pipeline(steps=[('Count vectorization', CountVectorizer()),\n",
       "                ('Tfidf Transformation', TfidfTransformer()),\n",
       "                ('Oversampling',\n",
       "                 RandomOverSampler(random_state=42,\n",
       "                                   sampling_strategy='minority')),\n",
       "                ('Linear Support Vector Classifier', LinearSVC())])"
      ]
     },
     "execution_count": 44,
     "metadata": {},
     "output_type": "execute_result"
    }
   ],
   "source": [
    "pipeline_svc.fit(X_train, y_train)"
   ]
  },
  {
   "cell_type": "code",
   "execution_count": 45,
   "metadata": {},
   "outputs": [],
   "source": [
    "svc_pred = pipeline_svc.predict(X_test)"
   ]
  },
  {
   "cell_type": "code",
   "execution_count": 46,
   "metadata": {},
   "outputs": [
    {
     "name": "stdout",
     "output_type": "stream",
     "text": [
      "              precision    recall  f1-score   support\n",
      "\n",
      "    Negative       0.55      0.90      0.68       640\n",
      "    Positive       0.95      0.72      0.82      1716\n",
      "\n",
      "    accuracy                           0.77      2356\n",
      "   macro avg       0.75      0.81      0.75      2356\n",
      "weighted avg       0.84      0.77      0.78      2356\n",
      "\n",
      "\n",
      "\n",
      "[[ 575   65]\n",
      " [ 478 1238]]\n",
      "\n",
      "\n",
      "0.7695246179966044\n"
     ]
    }
   ],
   "source": [
    "print(classification_report(y_test, bayes_pred))\n",
    "print('\\n')\n",
    "print(confusion_matrix(y_test, bayes_pred))\n",
    "print('\\n')\n",
    "print(accuracy_score(y_test, bayes_pred))"
   ]
  },
  {
   "cell_type": "code",
   "execution_count": 47,
   "metadata": {},
   "outputs": [
    {
     "name": "stdout",
     "output_type": "stream",
     "text": [
      "              precision    recall  f1-score   support\n",
      "\n",
      "    Negative       0.70      0.72      0.71       640\n",
      "    Positive       0.90      0.88      0.89      1716\n",
      "\n",
      "    accuracy                           0.84      2356\n",
      "   macro avg       0.80      0.80      0.80      2356\n",
      "weighted avg       0.84      0.84      0.84      2356\n",
      "\n",
      "\n",
      "\n",
      "[[ 463  177]\n",
      " [ 200 1516]]\n",
      "\n",
      "\n",
      "0.8399830220713073\n"
     ]
    }
   ],
   "source": [
    "print(classification_report(y_test, svc_pred))\n",
    "print('\\n')\n",
    "print(confusion_matrix(y_test, svc_pred))\n",
    "print('\\n')\n",
    "print(accuracy_score(y_test, svc_pred))"
   ]
  },
  {
   "cell_type": "code",
   "execution_count": 48,
   "metadata": {},
   "outputs": [],
   "source": [
    "#For undersampling\n",
    "pipeline_under = Pipeline([\n",
    "    ('Count vectorization', CountVectorizer()),\n",
    "    ('Tfidf Transformation', TfidfTransformer()),\n",
    "    ('Oversampling', RandomUnderSampler('majority', random_state=42)),\n",
    "    ('Naive Bayes Classifier', MultinomialNB())\n",
    "])"
   ]
  },
  {
   "cell_type": "code",
   "execution_count": 49,
   "metadata": {},
   "outputs": [
    {
     "data": {
      "text/plain": [
       "Pipeline(steps=[('Count vectorization', CountVectorizer()),\n",
       "                ('Tfidf Transformation', TfidfTransformer()),\n",
       "                ('Oversampling',\n",
       "                 RandomUnderSampler(random_state=42,\n",
       "                                    sampling_strategy='majority')),\n",
       "                ('Naive Bayes Classifier', MultinomialNB())])"
      ]
     },
     "execution_count": 49,
     "metadata": {},
     "output_type": "execute_result"
    }
   ],
   "source": [
    "pipeline_under.fit(X_train, y_train)"
   ]
  },
  {
   "cell_type": "code",
   "execution_count": 50,
   "metadata": {},
   "outputs": [],
   "source": [
    "bayes_under_pred = pipeline_under.predict(X_test)"
   ]
  },
  {
   "cell_type": "code",
   "execution_count": 51,
   "metadata": {},
   "outputs": [],
   "source": [
    "pipeline_svc_under = Pipeline([\n",
    "    ('Count vectorization', CountVectorizer()),\n",
    "    ('Tfidf Transformation', TfidfTransformer()),\n",
    "    ('Oversampling', RandomUnderSampler('majority', random_state=42)),\n",
    "    ('Linear Support Vector Classifier', LinearSVC())\n",
    "])"
   ]
  },
  {
   "cell_type": "code",
   "execution_count": 52,
   "metadata": {},
   "outputs": [
    {
     "data": {
      "text/plain": [
       "Pipeline(steps=[('Count vectorization', CountVectorizer()),\n",
       "                ('Tfidf Transformation', TfidfTransformer()),\n",
       "                ('Oversampling',\n",
       "                 RandomUnderSampler(random_state=42,\n",
       "                                    sampling_strategy='majority')),\n",
       "                ('Linear Support Vector Classifier', LinearSVC())])"
      ]
     },
     "execution_count": 52,
     "metadata": {},
     "output_type": "execute_result"
    }
   ],
   "source": [
    "pipeline_svc_under.fit(X_train, y_train)"
   ]
  },
  {
   "cell_type": "code",
   "execution_count": 53,
   "metadata": {},
   "outputs": [],
   "source": [
    "svc_under_pred = pipeline_svc_under.predict(X_test)"
   ]
  },
  {
   "cell_type": "code",
   "execution_count": 54,
   "metadata": {},
   "outputs": [
    {
     "name": "stdout",
     "output_type": "stream",
     "text": [
      "              precision    recall  f1-score   support\n",
      "\n",
      "    Negative       0.50      0.94      0.66       640\n",
      "    Positive       0.97      0.66      0.78      1716\n",
      "\n",
      "    accuracy                           0.73      2356\n",
      "   macro avg       0.73      0.80      0.72      2356\n",
      "weighted avg       0.84      0.73      0.75      2356\n",
      "\n",
      "\n",
      "\n",
      "[[ 600   40]\n",
      " [ 591 1125]]\n",
      "\n",
      "\n",
      "0.7321731748726655\n"
     ]
    }
   ],
   "source": [
    "print(classification_report(y_test, bayes_under_pred))\n",
    "print('\\n')\n",
    "print(confusion_matrix(y_test, bayes_under_pred))\n",
    "print('\\n')\n",
    "print(accuracy_score(y_test, bayes_under_pred))"
   ]
  },
  {
   "cell_type": "code",
   "execution_count": 55,
   "metadata": {},
   "outputs": [
    {
     "name": "stdout",
     "output_type": "stream",
     "text": [
      "              precision    recall  f1-score   support\n",
      "\n",
      "    Negative       0.63      0.83      0.72       640\n",
      "    Positive       0.93      0.82      0.87      1716\n",
      "\n",
      "    accuracy                           0.82      2356\n",
      "   macro avg       0.78      0.83      0.79      2356\n",
      "weighted avg       0.85      0.82      0.83      2356\n",
      "\n",
      "\n",
      "\n",
      "[[ 534  106]\n",
      " [ 315 1401]]\n",
      "\n",
      "\n",
      "0.8213073005093379\n"
     ]
    }
   ],
   "source": [
    "print(classification_report(y_test, svc_under_pred))\n",
    "print('\\n')\n",
    "print(confusion_matrix(y_test, svc_under_pred))\n",
    "print('\\n')\n",
    "print(accuracy_score(y_test, svc_under_pred))"
   ]
  },
  {
   "cell_type": "code",
   "execution_count": 56,
   "metadata": {},
   "outputs": [],
   "source": [
    "#Usng the SMOTE Over sampling method\n",
    "from imblearn.combine import SMOTETomek\n",
    "\n",
    "pipeline_bayes_smote = Pipeline([\n",
    "    ('Count vectorization', CountVectorizer()),\n",
    "    ('Tfidf Transformation', TfidfTransformer()),\n",
    "    ('Smote Oversampling', SMOTETomek(random_state=42)),\n",
    "    ('Naive Bayes Classifier', MultinomialNB())\n",
    "])"
   ]
  },
  {
   "cell_type": "code",
   "execution_count": 57,
   "metadata": {},
   "outputs": [
    {
     "data": {
      "text/plain": [
       "Pipeline(steps=[('Count vectorization', CountVectorizer()),\n",
       "                ('Tfidf Transformation', TfidfTransformer()),\n",
       "                ('Smote Oversampling', SMOTETomek(random_state=42)),\n",
       "                ('Naive Bayes Classifier', MultinomialNB())])"
      ]
     },
     "execution_count": 57,
     "metadata": {},
     "output_type": "execute_result"
    }
   ],
   "source": [
    "pipeline_bayes_smote.fit(X_train, y_train)"
   ]
  },
  {
   "cell_type": "code",
   "execution_count": 58,
   "metadata": {},
   "outputs": [],
   "source": [
    "bayes_smote_pred = pipeline_bayes_smote.predict(X_test)"
   ]
  },
  {
   "cell_type": "code",
   "execution_count": 59,
   "metadata": {},
   "outputs": [],
   "source": [
    "pipeline_svc_smote = Pipeline([\n",
    "    ('Count vectorization', CountVectorizer()),\n",
    "    ('Tfidf Transformation', TfidfTransformer()),\n",
    "    ('Smote Oversampling', SMOTETomek(random_state=42)),\n",
    "    ('Linear Support Vector Classifier', LinearSVC())\n",
    "])"
   ]
  },
  {
   "cell_type": "code",
   "execution_count": 60,
   "metadata": {},
   "outputs": [
    {
     "data": {
      "text/plain": [
       "Pipeline(steps=[('Count vectorization', CountVectorizer()),\n",
       "                ('Tfidf Transformation', TfidfTransformer()),\n",
       "                ('Smote Oversampling', SMOTETomek(random_state=42)),\n",
       "                ('Linear Support Vector Classifier', LinearSVC())])"
      ]
     },
     "execution_count": 60,
     "metadata": {},
     "output_type": "execute_result"
    }
   ],
   "source": [
    "pipeline_svc_smote.fit(X_train, y_train)"
   ]
  },
  {
   "cell_type": "code",
   "execution_count": 61,
   "metadata": {},
   "outputs": [],
   "source": [
    "svc_smote_pred = pipeline_svc_smote.predict(X_test)"
   ]
  },
  {
   "cell_type": "code",
   "execution_count": 62,
   "metadata": {},
   "outputs": [
    {
     "name": "stdout",
     "output_type": "stream",
     "text": [
      "              precision    recall  f1-score   support\n",
      "\n",
      "    Negative       0.54      0.90      0.68       640\n",
      "    Positive       0.95      0.72      0.82      1716\n",
      "\n",
      "    accuracy                           0.77      2356\n",
      "   macro avg       0.75      0.81      0.75      2356\n",
      "weighted avg       0.84      0.77      0.78      2356\n",
      "\n",
      "\n",
      "\n",
      "[[ 575   65]\n",
      " [ 483 1233]]\n",
      "\n",
      "\n",
      "0.767402376910017\n"
     ]
    }
   ],
   "source": [
    "print(classification_report(y_test, bayes_smote_pred))\n",
    "print('\\n')\n",
    "print(confusion_matrix(y_test, bayes_smote_pred))\n",
    "print('\\n')\n",
    "print(accuracy_score(y_test, bayes_smote_pred))"
   ]
  },
  {
   "cell_type": "code",
   "execution_count": 63,
   "metadata": {},
   "outputs": [
    {
     "name": "stdout",
     "output_type": "stream",
     "text": [
      "              precision    recall  f1-score   support\n",
      "\n",
      "    Negative       0.70      0.73      0.72       640\n",
      "    Positive       0.90      0.88      0.89      1716\n",
      "\n",
      "    accuracy                           0.84      2356\n",
      "   macro avg       0.80      0.81      0.80      2356\n",
      "weighted avg       0.85      0.84      0.84      2356\n",
      "\n",
      "\n",
      "\n",
      "[[ 470  170]\n",
      " [ 199 1517]]\n",
      "\n",
      "\n",
      "0.8433786078098472\n"
     ]
    }
   ],
   "source": [
    "print(classification_report(y_test, svc_smote_pred))\n",
    "print('\\n')\n",
    "print(confusion_matrix(y_test, svc_smote_pred))\n",
    "print('\\n')\n",
    "print(accuracy_score(y_test, svc_smote_pred))"
   ]
  },
  {
   "cell_type": "code",
   "execution_count": 64,
   "metadata": {},
   "outputs": [],
   "source": [
    "#Linear Support Vector CLassifier under the Smote technique performed the best"
   ]
  },
  {
   "cell_type": "code",
   "execution_count": 65,
   "metadata": {},
   "outputs": [],
   "source": [
    "#Using only count vectorization\n",
    "svc_count_smote = Pipeline([\n",
    "    ('Count vectorization', CountVectorizer()),\n",
    "    ('Smote Oversampling', SMOTETomek(random_state=42)),\n",
    "    ('Linear Support Vector Classifier', LinearSVC())\n",
    "])"
   ]
  },
  {
   "cell_type": "code",
   "execution_count": 66,
   "metadata": {},
   "outputs": [
    {
     "data": {
      "text/plain": [
       "Pipeline(steps=[('Count vectorization', CountVectorizer()),\n",
       "                ('Smote Oversampling', SMOTETomek(random_state=42)),\n",
       "                ('Linear Support Vector Classifier', LinearSVC())])"
      ]
     },
     "execution_count": 66,
     "metadata": {},
     "output_type": "execute_result"
    }
   ],
   "source": [
    "svc_count_smote.fit(X_train, y_train)"
   ]
  },
  {
   "cell_type": "code",
   "execution_count": 67,
   "metadata": {},
   "outputs": [],
   "source": [
    "predictions_svc = svc_count_smote.predict(X_test)"
   ]
  },
  {
   "cell_type": "code",
   "execution_count": 68,
   "metadata": {},
   "outputs": [
    {
     "name": "stdout",
     "output_type": "stream",
     "text": [
      "              precision    recall  f1-score   support\n",
      "\n",
      "    Negative       0.45      0.66      0.53       640\n",
      "    Positive       0.85      0.70      0.76      1716\n",
      "\n",
      "    accuracy                           0.69      2356\n",
      "   macro avg       0.65      0.68      0.65      2356\n",
      "weighted avg       0.74      0.69      0.70      2356\n",
      "\n",
      "\n",
      "\n",
      "[[ 421  219]\n",
      " [ 518 1198]]\n",
      "\n",
      "\n",
      "0.6871816638370118\n"
     ]
    }
   ],
   "source": [
    "print(classification_report(y_test, predictions_svc))\n",
    "print('\\n')\n",
    "print(confusion_matrix(y_test, predictions_svc))\n",
    "print('\\n')\n",
    "print(accuracy_score(y_test, predictions_svc))"
   ]
  },
  {
   "cell_type": "code",
   "execution_count": 69,
   "metadata": {},
   "outputs": [],
   "source": [
    "#Smote method for LinearSVC using Tfidf vectorization performed best"
   ]
  },
  {
   "cell_type": "code",
   "execution_count": 70,
   "metadata": {},
   "outputs": [],
   "source": [
    "from sklearn.feature_extraction.text import TfidfVectorizer"
   ]
  },
  {
   "cell_type": "code",
   "execution_count": 71,
   "metadata": {},
   "outputs": [],
   "source": [
    "tfidf = TfidfVectorizer()"
   ]
  },
  {
   "cell_type": "code",
   "execution_count": 72,
   "metadata": {},
   "outputs": [],
   "source": [
    "train_tfidf = tfidf.fit_transform(X_train, y_train)\n",
    "test_tfidf = tfidf.transform(X_test)"
   ]
  },
  {
   "cell_type": "code",
   "execution_count": 73,
   "metadata": {},
   "outputs": [],
   "source": [
    "import pickle\n",
    "pickle.dump(tfidf, open('transform.pkl','wb'))"
   ]
  },
  {
   "cell_type": "code",
   "execution_count": 74,
   "metadata": {},
   "outputs": [],
   "source": [
    "#ALL DONE"
   ]
  },
  {
   "cell_type": "code",
   "execution_count": null,
   "metadata": {},
   "outputs": [],
   "source": []
  }
 ],
 "metadata": {
  "kernelspec": {
   "display_name": "Python 3",
   "language": "python",
   "name": "python3"
  },
  "language_info": {
   "codemirror_mode": {
    "name": "ipython",
    "version": 3
   },
   "file_extension": ".py",
   "mimetype": "text/x-python",
   "name": "python",
   "nbconvert_exporter": "python",
   "pygments_lexer": "ipython3",
   "version": "3.7.0"
  }
 },
 "nbformat": 4,
 "nbformat_minor": 2
}
